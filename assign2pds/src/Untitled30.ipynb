{
  "nbformat": 4,
  "nbformat_minor": 0,
  "metadata": {
    "colab": {
      "provenance": []
    },
    "kernelspec": {
      "name": "python3",
      "display_name": "Python 3"
    },
    "language_info": {
      "name": "python"
    }
  },
  "cells": [
    {
      "cell_type": "code",
      "execution_count": 9,
      "metadata": {
        "colab": {
          "base_uri": "https://localhost:8080/"
        },
        "id": "tVp2euuiYcve",
        "outputId": "22253d6d-c9d5-42d0-d608-73bf5b74b855"
      },
      "outputs": [
        {
          "output_type": "stream",
          "name": "stdout",
          "text": [
            "Missing values in each column:\n",
            " Unnamed: 0              0\n",
            "Name                    0\n",
            "Location                0\n",
            "Year                    0\n",
            "Kilometers_Driven       0\n",
            "Fuel_Type               0\n",
            "Transmission            0\n",
            "Owner_Type              0\n",
            "Mileage                 2\n",
            "Engine                 36\n",
            "Power                  36\n",
            "Seats                  38\n",
            "New_Price            5032\n",
            "Price                   0\n",
            "dtype: int64\n",
            "Missing values after handling:\n",
            " Unnamed: 0           0\n",
            "Name                 0\n",
            "Location             0\n",
            "Year                 0\n",
            "Kilometers_Driven    0\n",
            "Fuel_Type            0\n",
            "Transmission         0\n",
            "Owner_Type           0\n",
            "Mileage              0\n",
            "Engine               0\n",
            "Power                0\n",
            "Seats                0\n",
            "New_Price            0\n",
            "Price                0\n",
            "dtype: int64\n"
          ]
        }
      ],
      "source": [
        "#a: Handle Missing Values\n",
        "import pandas as pd\n",
        "import numpy as np\n",
        "import os\n",
        "\n",
        "# Load the dataset\n",
        "df = pd.read_csv('/content/train.csv')  # Adjust path if running locally or differently\n",
        "\n",
        "# Check for missing values\n",
        "print(\"Missing values in each column:\\n\", df.isnull().sum())\n",
        "\n",
        "# Preprocess to remove units and convert to numeric with error handling\n",
        "# Handle 'Mileage' (remove 'kmpl' or 'km/kg')\n",
        "df['Mileage'] = pd.to_numeric(df['Mileage'].str.extract(r'(\\d+\\.?\\d*)')[0], errors='coerce')\n",
        "# Handle 'Engine' (remove 'CC')\n",
        "df['Engine'] = pd.to_numeric(df['Engine'].str.extract(r'(\\d+\\.?\\d*)')[0], errors='coerce')\n",
        "# Handle 'Power' (remove 'bhp')\n",
        "df['Power'] = pd.to_numeric(df['Power'].str.extract(r'(\\d+\\.?\\d*)')[0], errors='coerce')\n",
        "# Handle 'New_Price' (remove 'Lakh')\n",
        "df['New_Price'] = pd.to_numeric(df['New_Price'].str.extract(r'(\\d+\\.?\\d*)')[0], errors='coerce')\n",
        "\n",
        "# Impute numerical columns with median (avoiding inplace warning)\n",
        "numeric_cols = ['Mileage', 'Engine', 'Power', 'Seats', 'New_Price']\n",
        "for col in numeric_cols:\n",
        "    if col in df.columns:\n",
        "        df[col] = df[col].fillna(df[col].median())  # Assign back instead of inplace\n",
        "\n",
        "# Drop rows where 'Price' is missing (target variable)\n",
        "df.dropna(subset=['Price'], inplace=True)\n",
        "\n",
        "# Verify no more missing values\n",
        "print(\"Missing values after handling:\\n\", df.isnull().sum())\n",
        "\n",
        "# Create directory if it doesn't exist\n",
        "output_dir = 'Cars_Project_Assignment-2/Data_Clean'\n",
        "os.makedirs(output_dir, exist_ok=True)\n",
        "\n",
        "# Save the cleaned data\n",
        "df.to_csv(os.path.join(output_dir, 'data_cleaned_missingValues.csv'), index=False)"
      ]
    },
    {
      "cell_type": "code",
      "source": [
        "#b: Remove Units from Attributes\n",
        "import pandas as pd\n",
        "import os\n",
        "\n",
        "# Load the dataset from the previous step (Part a)\n",
        "df = pd.read_csv('Cars_Project_Assignment-2/Data_Clean/data_cleaned_missingValues.csv')\n",
        "\n",
        "# Ensure columns are numeric and remove any residual units (safeguard)\n",
        "df['Mileage'] = pd.to_numeric(df['Mileage'], errors='coerce')  # Already numeric from Part a\n",
        "df['Engine'] = pd.to_numeric(df['Engine'], errors='coerce')    # Already numeric from Part a\n",
        "df['Power'] = pd.to_numeric(df['Power'], errors='coerce')      # Already numeric from Part a\n",
        "df['New_Price'] = pd.to_numeric(df['New_Price'], errors='coerce')  # Already numeric from Part a\n",
        "\n",
        "# Create directory if it doesn't exist\n",
        "output_dir = 'Cars_Project_Assignment-2/Data_Clean'\n",
        "os.makedirs(output_dir, exist_ok=True)\n",
        "\n",
        "# Save the updated data\n",
        "df.to_csv(os.path.join(output_dir, 'data_units_removed.csv'), index=False)\n",
        "\n",
        "# Display the first 5 rows in a clean tabular format\n",
        "print(df.head().to_string(index=False))"
      ],
      "metadata": {
        "colab": {
          "base_uri": "https://localhost:8080/"
        },
        "id": "xLvbS23qaLsp",
        "outputId": "0cf506c9-2db2-404f-c8fd-8cfa8e6b67e2"
      },
      "execution_count": 11,
      "outputs": [
        {
          "output_type": "stream",
          "name": "stdout",
          "text": [
            " Unnamed: 0                             Name   Location  Year  Kilometers_Driven Fuel_Type Transmission Owner_Type  Mileage  Engine  Power  Seats  New_Price  Price\n",
            "          1 Hyundai Creta 1.6 CRDi SX Option       Pune  2015              41000    Diesel       Manual      First    19.67  1582.0 126.20    5.0      11.48  12.50\n",
            "          2                     Honda Jazz V    Chennai  2011              46000    Petrol       Manual      First    13.00  1199.0  88.70    5.0       8.61   4.50\n",
            "          3                Maruti Ertiga VDI    Chennai  2012              87000    Diesel       Manual      First    20.77  1248.0  88.76    7.0      11.48   6.00\n",
            "          4  Audi A4 New 2.0 TDI Multitronic Coimbatore  2013              40670    Diesel    Automatic     Second    15.20  1968.0 140.80    5.0      11.48  17.74\n",
            "          6           Nissan Micra Diesel XV     Jaipur  2013              86999    Diesel       Manual      First    23.08  1461.0  63.10    5.0      11.48   3.50\n"
          ]
        }
      ]
    },
    {
      "cell_type": "code",
      "source": [
        "#c: One-Hot Encode Categorical Variables\n",
        "import pandas as pd\n",
        "from sklearn.preprocessing import OneHotEncoder\n",
        "import os\n",
        "\n",
        "# Load the dataset from the previous step\n",
        "df = pd.read_csv('Cars_Project_Assignment-2/Data_Clean/data_cleaned_missingValues.csv')\n",
        "\n",
        "# Initialize OneHotEncoder (use sparse_output instead of sparse)\n",
        "encoder = OneHotEncoder(sparse_output=False, drop='first', handle_unknown='ignore')\n",
        "\n",
        "# Fit and transform categorical columns\n",
        "categorical_cols = ['Fuel_Type', 'Transmission']\n",
        "encoded_cats = encoder.fit_transform(df[categorical_cols])\n",
        "\n",
        "# Get feature names\n",
        "feature_names = encoder.get_feature_names_out(categorical_cols)\n",
        "\n",
        "# Convert to DataFrame and merge with original\n",
        "encoded_df = pd.DataFrame(encoded_cats, columns=feature_names, index=df.index)\n",
        "df = pd.concat([df.drop(categorical_cols, axis=1), encoded_df], axis=1)\n",
        "\n",
        "# Create directory if it doesn't exist\n",
        "output_dir = 'Cars_Project_Assignment-2/Data_Clean'\n",
        "os.makedirs(output_dir, exist_ok=True)\n",
        "\n",
        "# Save the updated data\n",
        "df.to_csv(os.path.join(output_dir, 'Categorical_data_encoded.csv'), index=False)\n",
        "\n",
        "# Display the first 5 rows in a clean tabular format\n",
        "print(df.head().to_string(index=False))\n",
        "\n",
        "# Note (print for reference):\n",
        "print(\"Note: 'drop='first'' avoids multicollinearity by dropping one category per variable.\")"
      ],
      "metadata": {
        "colab": {
          "base_uri": "https://localhost:8080/"
        },
        "id": "XkMA2SBqbCXh",
        "outputId": "f1d4a77e-10dc-42be-c6ca-ccfdf66e783b"
      },
      "execution_count": 15,
      "outputs": [
        {
          "output_type": "stream",
          "name": "stdout",
          "text": [
            " Unnamed: 0                             Name   Location  Year  Kilometers_Driven Owner_Type  Mileage  Engine  Power  Seats  New_Price  Price  Fuel_Type_Electric  Fuel_Type_Petrol  Transmission_Manual\n",
            "          1 Hyundai Creta 1.6 CRDi SX Option       Pune  2015              41000      First    19.67  1582.0 126.20    5.0      11.48  12.50                 0.0               0.0                  1.0\n",
            "          2                     Honda Jazz V    Chennai  2011              46000      First    13.00  1199.0  88.70    5.0       8.61   4.50                 0.0               1.0                  1.0\n",
            "          3                Maruti Ertiga VDI    Chennai  2012              87000      First    20.77  1248.0  88.76    7.0      11.48   6.00                 0.0               0.0                  1.0\n",
            "          4  Audi A4 New 2.0 TDI Multitronic Coimbatore  2013              40670     Second    15.20  1968.0 140.80    5.0      11.48  17.74                 0.0               0.0                  0.0\n",
            "          6           Nissan Micra Diesel XV     Jaipur  2013              86999      First    23.08  1461.0  63.10    5.0      11.48   3.50                 0.0               0.0                  1.0\n",
            "Note: 'drop='first'' avoids multicollinearity by dropping one category per variable.\n"
          ]
        }
      ]
    },
    {
      "cell_type": "code",
      "source": [
        "#d: Create a New Feature (Car Age)\n",
        "import pandas as pd\n",
        "from datetime import datetime\n",
        "import os\n",
        "\n",
        "# Load the dataset from the previous step\n",
        "df = pd.read_csv('Cars_Project_Assignment-2/Data_Clean/Categorical_data_encoded.csv')\n",
        "\n",
        "# Current year\n",
        "current_year = 2025\n",
        "\n",
        "# Calculate car age\n",
        "df['Car_Age'] = current_year - df['Year']\n",
        "\n",
        "# Create directory if it doesn't exist\n",
        "output_dir = 'Cars_Project_Assignment-2/Data_Clean'\n",
        "os.makedirs(output_dir, exist_ok=True)\n",
        "\n",
        "# Save the updated data\n",
        "df.to_csv(os.path.join(output_dir, 'updated_data_with_current_age.csv'), index=False)\n",
        "\n",
        "# Verify the new feature\n",
        "print(\"First few rows with Car_Age:\\n\", df[['Year', 'Car_Age']].head())"
      ],
      "metadata": {
        "colab": {
          "base_uri": "https://localhost:8080/"
        },
        "id": "GNJFQaxpcDV8",
        "outputId": "c7445c47-0592-42dc-c397-199ddd7214b5"
      },
      "execution_count": 17,
      "outputs": [
        {
          "output_type": "stream",
          "name": "stdout",
          "text": [
            "First few rows with Car_Age:\n",
            "    Year  Car_Age\n",
            "0  2015       10\n",
            "1  2011       14\n",
            "2  2012       13\n",
            "3  2013       12\n",
            "4  2013       12\n"
          ]
        }
      ]
    },
    {
      "cell_type": "code",
      "source": [
        "import pandas as pd\n",
        "import os\n",
        "\n",
        "# Load the dataset from the previous step\n",
        "df = pd.read_csv('Cars_Project_Assignment-2/Data_Clean/updated_data_with_current_age.csv')\n",
        "\n",
        "# 1. Select: Select specific columns\n",
        "selected_df = df[['Name', 'Location', 'Year', 'Mileage', 'Price']]\n",
        "print(\"Selected columns:\\n\", selected_df.head())\n",
        "\n",
        "# 2. Filter: Filter cars older than 10 years\n",
        "filtered_df = df[df['Car_Age'] > 10]\n",
        "print(\"Filtered cars (age > 10 years):\\n\", filtered_df.head())\n",
        "\n",
        "# 3. Rename: Rename a column\n",
        "df = df.rename(columns={'Price': 'Current_Price'})\n",
        "print(\"Renamed DataFrame (sample):\\n\", df[['Current_Price']].head())\n",
        "\n",
        "# 4. Mutate: Add another derived feature (e.g., Price per Year of Age)\n",
        "df['Price_Per_Year'] = df['Current_Price'] / df['Car_Age']\n",
        "print(\"DataFrame with Price_Per_Year (sample):\\n\", df[['Current_Price', 'Car_Age', 'Price_Per_Year']].head())\n",
        "\n",
        "# 5. Arrange: Sort by Price (descending)\n",
        "arranged_df = df.sort_values(by='Current_Price', ascending=False)\n",
        "print(\"Arranged by Price (top 5):\\n\", arranged_df[['Current_Price', 'Name']].head())\n",
        "\n",
        "# 6. Summarize with group by: Average price by Location\n",
        "summary_df = df.groupby('Location')['Current_Price'].agg(['mean', 'count', 'min', 'max']).reset_index()\n",
        "print(\"Summary of Price by Location:\\n\", summary_df)\n",
        "\n",
        "# Create directory if it doesn't exist\n",
        "output_dir = 'Cars_Project_Assignment-2/results'\n",
        "os.makedirs(output_dir, exist_ok=True)\n",
        "\n",
        "# Save all Part e outputs to a single txt file\n",
        "with open(os.path.join(output_dir, 'results.txt'), 'w') as f:\n",
        "    f.write(\"--- Selected Columns ---\\n\")\n",
        "    f.write(selected_df.head().to_string(index=False) + \"\\n\\n\")\n",
        "    f.write(\"--- Filtered Cars (age > 10 years) ---\\n\")\n",
        "    f.write(filtered_df.head().to_string(index=False) + \"\\n\\n\")\n",
        "    f.write(\"--- Renamed DataFrame (Current_Price) ---\\n\")\n",
        "    f.write(df[['Current_Price']].head().to_string(index=False) + \"\\n\\n\")\n",
        "    f.write(\"--- Mutated DataFrame (Price_Per_Year) ---\\n\")\n",
        "    f.write(df[['Current_Price', 'Car_Age', 'Price_Per_Year']].head().to_string(index=False) + \"\\n\\n\")\n",
        "    f.write(\"--- Arranged by Price (top 5) ---\\n\")\n",
        "    f.write(arranged_df[['Current_Price', 'Name']].head().to_string(index=False) + \"\\n\\n\")\n",
        "    f.write(\"--- Summary of Price by Location ---\\n\")\n",
        "    f.write(summary_df.to_string(index=False) + \"\\n\")"
      ],
      "metadata": {
        "colab": {
          "base_uri": "https://localhost:8080/"
        },
        "id": "Dm9glPfFgCv-",
        "outputId": "61106574-104a-4a95-f0b8-db766a6ab131"
      },
      "execution_count": 23,
      "outputs": [
        {
          "output_type": "stream",
          "name": "stdout",
          "text": [
            "Selected columns:\n",
            "                                Name    Location  Year  Mileage  Price\n",
            "0  Hyundai Creta 1.6 CRDi SX Option        Pune  2015    19.67  12.50\n",
            "1                      Honda Jazz V     Chennai  2011    13.00   4.50\n",
            "2                 Maruti Ertiga VDI     Chennai  2012    20.77   6.00\n",
            "3   Audi A4 New 2.0 TDI Multitronic  Coimbatore  2013    15.20  17.74\n",
            "4            Nissan Micra Diesel XV      Jaipur  2013    23.08   3.50\n",
            "Filtered cars (age > 10 years):\n",
            "    Unnamed: 0                                 Name    Location  Year  \\\n",
            "1           2                         Honda Jazz V     Chennai  2011   \n",
            "2           3                    Maruti Ertiga VDI     Chennai  2012   \n",
            "3           4      Audi A4 New 2.0 TDI Multitronic  Coimbatore  2013   \n",
            "4           6               Nissan Micra Diesel XV      Jaipur  2013   \n",
            "6           8  Volkswagen Vento Diesel Comfortline        Pune  2013   \n",
            "\n",
            "   Kilometers_Driven Owner_Type  Mileage  Engine   Power  Seats  New_Price  \\\n",
            "1              46000      First    13.00  1199.0   88.70    5.0       8.61   \n",
            "2              87000      First    20.77  1248.0   88.76    7.0      11.48   \n",
            "3              40670     Second    15.20  1968.0  140.80    5.0      11.48   \n",
            "4              86999      First    23.08  1461.0   63.10    5.0      11.48   \n",
            "6              64430      First    20.54  1598.0  103.60    5.0      11.48   \n",
            "\n",
            "   Price  Fuel_Type_Electric  Fuel_Type_Petrol  Transmission_Manual  Car_Age  \n",
            "1   4.50                 0.0               1.0                  1.0       14  \n",
            "2   6.00                 0.0               0.0                  1.0       13  \n",
            "3  17.74                 0.0               0.0                  0.0       12  \n",
            "4   3.50                 0.0               0.0                  1.0       12  \n",
            "6   5.20                 0.0               0.0                  1.0       12  \n",
            "Renamed DataFrame (sample):\n",
            "    Current_Price\n",
            "0          12.50\n",
            "1           4.50\n",
            "2           6.00\n",
            "3          17.74\n",
            "4           3.50\n",
            "DataFrame with Price_Per_Year (sample):\n",
            "    Current_Price  Car_Age  Price_Per_Year\n",
            "0          12.50       10        1.250000\n",
            "1           4.50       14        0.321429\n",
            "2           6.00       13        0.461538\n",
            "3          17.74       12        1.478333\n",
            "4           3.50       12        0.291667\n",
            "Arranged by Price (top 5):\n",
            "       Current_Price                                         Name\n",
            "3952         160.00  Land Rover Range Rover 3.0 Diesel LWB Vogue\n",
            "5620         120.00                   Lamborghini Gallardo Coupe\n",
            "5752         100.00                       Jaguar F Type 5.0 V8 S\n",
            "1457          97.07              Land Rover Range Rover Sport SE\n",
            "1917          93.67                           BMW 7 Series 740Li\n",
            "Summary of Price by Location:\n",
            "       Location       mean  count   min     max\n",
            "0    Ahmedabad   8.567248    218  0.75   85.00\n",
            "1    Bangalore  13.482670    352  1.65   93.00\n",
            "2      Chennai   7.958340    476  0.70   70.00\n",
            "3   Coimbatore  15.160206    631  1.68   93.67\n",
            "4        Delhi   9.881944    540  0.75  120.00\n",
            "5    Hyderabad   9.997423    710  0.60  160.00\n",
            "6       Jaipur   5.916725    403  0.45   42.50\n",
            "7        Kochi  11.309109    640  1.26   97.07\n",
            "8      Kolkata   5.733924    525  0.65   75.00\n",
            "9       Mumbai   9.592546    762  0.55   75.00\n",
            "10        Pune   6.951000    590  0.44   68.00\n"
          ]
        }
      ]
    }
  ]
}